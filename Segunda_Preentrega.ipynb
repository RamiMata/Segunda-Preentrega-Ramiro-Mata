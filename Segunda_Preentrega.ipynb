{
  "nbformat": 4,
  "nbformat_minor": 0,
  "metadata": {
    "colab": {
      "provenance": []
    },
    "kernelspec": {
      "name": "python3",
      "display_name": "Python 3"
    },
    "language_info": {
      "name": "python"
    }
  },
  "cells": [
    {
      "cell_type": "code",
      "source": [
        "pip install openai==0.28"
      ],
      "metadata": {
        "colab": {
          "base_uri": "https://localhost:8080/"
        },
        "id": "hdR-hFAAE4Qh",
        "outputId": "edf1198c-1c0c-45b0-e733-769d4cba9610"
      },
      "execution_count": 1,
      "outputs": [
        {
          "output_type": "stream",
          "name": "stdout",
          "text": [
            "Requirement already satisfied: openai==0.28 in /usr/local/lib/python3.11/dist-packages (0.28.0)\n",
            "Requirement already satisfied: requests>=2.20 in /usr/local/lib/python3.11/dist-packages (from openai==0.28) (2.32.3)\n",
            "Requirement already satisfied: tqdm in /usr/local/lib/python3.11/dist-packages (from openai==0.28) (4.67.1)\n",
            "Requirement already satisfied: aiohttp in /usr/local/lib/python3.11/dist-packages (from openai==0.28) (3.11.12)\n",
            "Requirement already satisfied: charset-normalizer<4,>=2 in /usr/local/lib/python3.11/dist-packages (from requests>=2.20->openai==0.28) (3.4.1)\n",
            "Requirement already satisfied: idna<4,>=2.5 in /usr/local/lib/python3.11/dist-packages (from requests>=2.20->openai==0.28) (3.10)\n",
            "Requirement already satisfied: urllib3<3,>=1.21.1 in /usr/local/lib/python3.11/dist-packages (from requests>=2.20->openai==0.28) (2.3.0)\n",
            "Requirement already satisfied: certifi>=2017.4.17 in /usr/local/lib/python3.11/dist-packages (from requests>=2.20->openai==0.28) (2025.1.31)\n",
            "Requirement already satisfied: aiohappyeyeballs>=2.3.0 in /usr/local/lib/python3.11/dist-packages (from aiohttp->openai==0.28) (2.4.4)\n",
            "Requirement already satisfied: aiosignal>=1.1.2 in /usr/local/lib/python3.11/dist-packages (from aiohttp->openai==0.28) (1.3.2)\n",
            "Requirement already satisfied: attrs>=17.3.0 in /usr/local/lib/python3.11/dist-packages (from aiohttp->openai==0.28) (25.1.0)\n",
            "Requirement already satisfied: frozenlist>=1.1.1 in /usr/local/lib/python3.11/dist-packages (from aiohttp->openai==0.28) (1.5.0)\n",
            "Requirement already satisfied: multidict<7.0,>=4.5 in /usr/local/lib/python3.11/dist-packages (from aiohttp->openai==0.28) (6.1.0)\n",
            "Requirement already satisfied: propcache>=0.2.0 in /usr/local/lib/python3.11/dist-packages (from aiohttp->openai==0.28) (0.2.1)\n",
            "Requirement already satisfied: yarl<2.0,>=1.17.0 in /usr/local/lib/python3.11/dist-packages (from aiohttp->openai==0.28) (1.18.3)\n"
          ]
        }
      ]
    },
    {
      "cell_type": "code",
      "source": [
        "import openai\n",
        "import textwrap\n",
        "\n",
        "#pongo asi la apikey para protegerla\n",
        "openai.api_key = os.getenv(\"OPENAI_API_KEY\")\n",
        "\n",
        "def generar_descripcion_mascota(nombre_marca, valores, sector, descripcion_empresa):\n",
        "    prompt = f\"\"\"\n",
        "    Eres un experto en diseño de marcas y creación de personajes icónicos.\n",
        "    Genera una descripción breve y precisa para una mascota de marca con los siguientes criterios:\n",
        "\n",
        "    - Nombre de la marca: {nombre_marca}\n",
        "    - Valores de la marca: {valores}\n",
        "    - Sector de la marca: {sector}\n",
        "    - Descripción de la empresa: {descripcion_empresa}\n",
        "\n",
        "    La descripción debe incluir:\n",
        "    - Características físicas (ejemplo: criatura mitológica con cuerpo metálico azul y dorado)\n",
        "    - Expresión y personalidad (ejemplo: imponente, majestuoso, protector, confiado)\n",
        "    - Elementos distintivos (ojos brillantes, detalles tecnológicos, escudo futurista)\n",
        "\n",
        "    La respuesta debe estar en español, ser clara y NO superar los 850 caracteres. Usa frases cortas y concisas.\n",
        "    \"\"\"\n",
        "\n",
        "    response = openai.ChatCompletion.create(\n",
        "        model=\"gpt-4o\",\n",
        "        messages=[\n",
        "            {\"role\": \"system\", \"content\": \"Responde únicamente en español.\"},\n",
        "            {\"role\": \"user\", \"content\": prompt}\n",
        "        ],\n",
        "        max_tokens=200\n",
        "    )\n",
        "\n",
        "    descripcion = response[\"choices\"][0][\"message\"][\"content\"]\n",
        "\n",
        "\n",
        "    descripcion_reducida = textwrap.shorten(descripcion, width=950, placeholder=\"...\")\n",
        "\n",
        "    return descripcion_reducida\n",
        "\n",
        "\n",
        "nombre_marca = \"Olimpo Web\"\n",
        "valores = \"Lealtad, Innovación, Calidad\"\n",
        "sector = \"Desarrollo de páginas web\"\n",
        "descripcion_empresa = \"Creamos páginas web de alta calidad con tecnología de vanguardia.\"\n",
        "\n",
        "\n",
        "descripcion_mascota = generar_descripcion_mascota(nombre_marca, valores, sector, descripcion_empresa)\n",
        "print(\"\\nDescripción Generada:\\n\", descripcion_mascota)\n",
        "\n",
        "\n",
        "\n"
      ],
      "metadata": {
        "colab": {
          "base_uri": "https://localhost:8080/"
        },
        "id": "juHa86XxOd8M",
        "outputId": "64a238bc-b1ce-46da-960f-62e58ad172d9"
      },
      "execution_count": 50,
      "outputs": [
        {
          "output_type": "stream",
          "name": "stdout",
          "text": [
            "\n",
            "Descripción Generada:\n",
            " La mascota de Olimpo Web es \"Calyx\", un centauro cibernético de cuerpo metálico azul y dorado. Su apariencia es la de una majestuosa criatura mitológica, combinando tradición e innovación. Calyx posee una expresión confiada y protectora, reflejando la lealtad y calidad que Olimpo Web ofrece a sus clientes. Sus ojos brillantes destellan inteligencia y creatividad, simbolizando el enfoque innovador de la marca. Detalles tecnológicos adornan sus extremidades, representando las herramientas avanzadas utilizadas en el desarrollo web. Un escudo futurista integrado en su diseño corporal destaca su compromiso con la protección y la excelencia.\n"
          ]
        }
      ]
    },
    {
      "cell_type": "code",
      "source": [
        "import openai\n",
        "import textwrap\n",
        "\n",
        "#pongo asi la apikey para protegerla\n",
        "openai.api_key = os.getenv(\"OPENAI_API_KEY\")\n",
        "\n",
        "\n",
        "descripcion_mascota = \"\"\"\n",
        " La mascota de Olimpo Web es \"Calyx\", un centauro cibernético de cuerpo metálico azul y dorado. Su apariencia es la de una majestuosa criatura mitológica, combinando tradición e innovación.\n",
        "\"\"\"\n",
        "\n",
        "\n",
        "def generar_imagen(descripcion):\n",
        "\n",
        "    prompt_imagen = f\"\"\"\n",
        "    Arte digital hiperrealista en calidad 8K.\n",
        "    Personaje en estilo de videojuego AAA con texturas altamente detalladas.\n",
        "    Iluminación cinematográfica, con contrastes dinámicos y reflejos en armaduras metálicas.\n",
        "    León antropomórfico con armadura dorada brillante, detalles en azul neón y textura metálica pulida.\n",
        "    Ojos de luz azul intenso, mirada majestuosa con expresión de inteligencia artificial avanzada.\n",
        "    Alas holográficas de energía con circuitos bioluminiscentes.\n",
        "    Fusión de mitología y tecnología: diseño biomecánico con inspiración futurista.\n",
        "    Fondos épicos con iluminación de neón dorado, resaltando los contornos de la figura.\n",
        "    No incluir texto, letras ni logotipos en la imagen.\n",
        "\n",
        "    --- Descripción de la mascota ---\n",
        "    {descripcion}\n",
        "    \"\"\"\n",
        "\n",
        "    response = openai.Image.create(\n",
        "        prompt=prompt_imagen,\n",
        "        n=1,\n",
        "        size=\"1024x1024\"\n",
        "    )\n",
        "\n",
        "    return response[\"data\"][0][\"url\"]\n",
        "\n",
        "imagen_url = generar_imagen(descripcion_mascota)\n",
        "print(\"\\nImagen Generada:\", imagen_url)\n",
        "\n",
        "\n"
      ],
      "metadata": {
        "colab": {
          "base_uri": "https://localhost:8080/"
        },
        "id": "37ZClBlbOfeW",
        "outputId": "e0b7f33d-4844-47b0-ad6e-a8114eebe05c"
      },
      "execution_count": 52,
      "outputs": [
        {
          "output_type": "stream",
          "name": "stdout",
          "text": [
            "\n",
            "Imagen Generada: https://oaidalleapiprodscus.blob.core.windows.net/private/org-NYnNbDDAmJbizdCZvsy9QtNE/user-rUOxIJkSoyZ4TlpcpodgFGR0/img-6UFpZyUrUhZM3URx9hvZV67n.png?st=2025-02-14T15%3A50%3A49Z&se=2025-02-14T17%3A50%3A49Z&sp=r&sv=2024-08-04&sr=b&rscd=inline&rsct=image/png&skoid=d505667d-d6c1-4a0a-bac7-5c84a87759f8&sktid=a48cca56-e6da-484e-a814-9c849652bcb3&skt=2025-02-14T10%3A29%3A37Z&ske=2025-02-15T10%3A29%3A37Z&sks=b&skv=2024-08-04&sig=7CoqnsoEg6L/Hse3RkPwYTbEkycP9SCvl%2BJnRffCqVw%3D\n"
          ]
        }
      ]
    },
    {
      "cell_type": "code",
      "source": [],
      "metadata": {
        "id": "l3aM_rjmVfhn"
      },
      "execution_count": null,
      "outputs": []
    }
  ]
}